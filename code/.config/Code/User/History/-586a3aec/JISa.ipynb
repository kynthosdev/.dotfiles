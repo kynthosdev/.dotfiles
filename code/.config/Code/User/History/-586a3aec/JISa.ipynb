{
 "cells": [
  {
   "cell_type": "code",
   "execution_count": 3,
   "metadata": {},
   "outputs": [],
   "source": [
    "import pandas as pd"
   ]
  },
  {
   "cell_type": "code",
   "execution_count": 4,
   "metadata": {},
   "outputs": [
    {
     "data": {
      "text/plain": [
       "'2.1.1'"
      ]
     },
     "execution_count": 4,
     "metadata": {},
     "output_type": "execute_result"
    }
   ],
   "source": [
    "pd.__version__"
   ]
  },
  {
   "cell_type": "code",
   "execution_count": 5,
   "metadata": {},
   "outputs": [],
   "source": [
    "pd.options.display.min_rows = 20\n",
    "pd.set_option('float_format', '{:f}'.format)"
   ]
  },
  {
   "cell_type": "code",
   "execution_count": 6,
   "metadata": {},
   "outputs": [],
   "source": [
    "csv = './test_files/ncwtasks_2022_to_Nov2023.csv'\n",
    "\n",
    "df = pd.read_csv(csv, encoding='latin-1')\n",
    "\n",
    "cols = ['Material', 'Prod. order', 'Complaint qty', 'Unit', 'Category', 'Sub Category', 'Decision', 'Division']\n",
    "\n",
    "df2=(df\n",
    ".dropna(subset='Notification')\n",
    ".assign(\n",
    "    material_number=df.Material.fillna(0),\n",
    "    prod_order=df['Prod. order'].fillna(0),\n",
    "    complaint_qty=df['Complaint qty'].fillna(0),\n",
    "    sub_category=df['Sub Category'].fillna('NA'),\n",
    "    division=df.Division.fillna('Operations'),\n",
    "    unit=df.Unit.fillna('NA'),\n",
    "    category=df.Category.fillna('Other'),\n",
    "    decision=df.Decision.fillna('Immediate action - Correction'))\n",
    ".drop(columns=cols)\n",
    ".rename(columns={'CCP/oPRP':'risk', 'Work Station':'work_station', 'Material Number':'material', 'Task text':'task_text'})\n",
    ".rename(columns=str.lower)\n",
    ".astype({'notification': int, 'prod_order': int, 'material_number': int})\n",
    ".astype({'decision': 'category', 'division': 'category', 'department': 'category', 'unit': 'category', 'category': 'category',\n",
    "        'sub_category': 'category', 'coding': 'category', 'status': 'category', 'risk': 'category', 'work_station': 'category'})\n",
    ")\n",
    "\n",
    "devcons=(df2[(df2.decision == 'Deviation') | (df2.decision == 'Concession')]\n",
    ".drop_duplicates(subset='notification')\n",
    ")\n",
    "\n",
    "result=(pd.concat([devcons,df2])\n",
    ".drop_duplicates(subset='notification')\n",
    ")\n"
   ]
  },
  {
   "cell_type": "markdown",
   "metadata": {},
   "source": [
    "# Check memory\n",
    "df.memory_usage(deep=True).sum()"
   ]
  },
  {
   "cell_type": "markdown",
   "metadata": {},
   "source": [
    "# Functions to inspect data\n",
    "\n",
    "df.select_dtypes(object).describe() \\\n",
    "df.COLUMN.value_counts(dropna=False) \\\n",
    "df.COLUMN.isna().describe() \\\n",
    "df.query('COLUMN.isna()') \\"
   ]
  }
 ],
 "metadata": {
  "kernelspec": {
   "display_name": "Python 3",
   "language": "python",
   "name": "python3"
  },
  "language_info": {
   "codemirror_mode": {
    "name": "ipython",
    "version": 3
   },
   "file_extension": ".py",
   "mimetype": "text/x-python",
   "name": "python",
   "nbconvert_exporter": "python",
   "pygments_lexer": "ipython3",
   "version": "3.12.0"
  }
 },
 "nbformat": 4,
 "nbformat_minor": 2
}
